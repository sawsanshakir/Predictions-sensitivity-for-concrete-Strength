{
 "cells": [
  {
   "cell_type": "code",
   "execution_count": 110,
   "metadata": {},
   "outputs": [],
   "source": [
    "import numpy as np\n",
    "import pandas as pd\n",
    "\n",
    "import matplotlib as mpl\n",
    "import matplotlib.pyplot as plt\n",
    "import matplotlib.pylab as pylab\n",
    "import seaborn as sns\n",
    "from pandas.plotting import scatter_matrix\n",
    "\n",
    "%matplotlib inline\n",
    "mpl.style.use('ggplot')\n",
    "sns.set_style('white')\n",
    "pylab.rcParams['figure.figsize'] = 12,8\n"
   ]
  },
  {
   "cell_type": "code",
   "execution_count": 111,
   "metadata": {},
   "outputs": [
    {
     "name": "stdout",
     "output_type": "stream",
     "text": [
      "      cement   slag  flyash  water  superplasticizer  coarseaggregate  \\\n",
      "0      540.0    0.0     0.0  162.0               2.5           1040.0   \n",
      "1      540.0    0.0     0.0  162.0               2.5           1055.0   \n",
      "2      332.5  142.5     0.0  228.0               0.0            932.0   \n",
      "3      332.5  142.5     0.0  228.0               0.0            932.0   \n",
      "4      198.6  132.4     0.0  192.0               0.0            978.4   \n",
      "...      ...    ...     ...    ...               ...              ...   \n",
      "1025   276.4  116.0    90.3  179.6               8.9            870.1   \n",
      "1026   322.2    0.0   115.6  196.0              10.4            817.9   \n",
      "1027   148.5  139.4   108.6  192.7               6.1            892.4   \n",
      "1028   159.1  186.7     0.0  175.6              11.3            989.6   \n",
      "1029   260.9  100.5    78.3  200.6               8.6            864.5   \n",
      "\n",
      "      fineaggregate  age  csMPa  \n",
      "0             676.0   28  79.99  \n",
      "1             676.0   28  61.89  \n",
      "2             594.0  270  40.27  \n",
      "3             594.0  365  41.05  \n",
      "4             825.5  360  44.30  \n",
      "...             ...  ...    ...  \n",
      "1025          768.3   28  44.28  \n",
      "1026          813.4   28  31.18  \n",
      "1027          780.0   28  23.70  \n",
      "1028          788.9   28  32.77  \n",
      "1029          761.5   28  32.40  \n",
      "\n",
      "[1030 rows x 9 columns]\n"
     ]
    }
   ],
   "source": [
    "concrete_data= pd.read_csv('Concrete_Data_Yeh.csv')\n",
    "\n",
    "print(concrete_data)"
   ]
  },
  {
   "cell_type": "code",
   "execution_count": 112,
   "metadata": {},
   "outputs": [
    {
     "name": "stdout",
     "output_type": "stream",
     "text": [
      "<class 'pandas.core.frame.DataFrame'>\n",
      "RangeIndex: 1030 entries, 0 to 1029\n",
      "Data columns (total 9 columns):\n",
      " #   Column            Non-Null Count  Dtype  \n",
      "---  ------            --------------  -----  \n",
      " 0   cement            1030 non-null   float64\n",
      " 1   slag              1030 non-null   float64\n",
      " 2   flyash            1030 non-null   float64\n",
      " 3   water             1030 non-null   float64\n",
      " 4   superplasticizer  1030 non-null   float64\n",
      " 5   coarseaggregate   1030 non-null   float64\n",
      " 6   fineaggregate     1030 non-null   float64\n",
      " 7   age               1030 non-null   int64  \n",
      " 8   csMPa             1030 non-null   float64\n",
      "dtypes: float64(8), int64(1)\n",
      "memory usage: 72.5 KB\n"
     ]
    }
   ],
   "source": [
    "concrete_data.info()"
   ]
  },
  {
   "cell_type": "code",
   "execution_count": 113,
   "metadata": {},
   "outputs": [
    {
     "data": {
      "text/html": [
       "<div>\n",
       "<style scoped>\n",
       "    .dataframe tbody tr th:only-of-type {\n",
       "        vertical-align: middle;\n",
       "    }\n",
       "\n",
       "    .dataframe tbody tr th {\n",
       "        vertical-align: top;\n",
       "    }\n",
       "\n",
       "    .dataframe thead th {\n",
       "        text-align: right;\n",
       "    }\n",
       "</style>\n",
       "<table border=\"1\" class=\"dataframe\">\n",
       "  <thead>\n",
       "    <tr style=\"text-align: right;\">\n",
       "      <th></th>\n",
       "      <th>cement</th>\n",
       "      <th>slag</th>\n",
       "      <th>flyash</th>\n",
       "      <th>water</th>\n",
       "      <th>superplasticizer</th>\n",
       "      <th>coarseaggregate</th>\n",
       "      <th>fineaggregate</th>\n",
       "      <th>age</th>\n",
       "      <th>csMPa</th>\n",
       "    </tr>\n",
       "  </thead>\n",
       "  <tbody>\n",
       "    <tr>\n",
       "      <th>count</th>\n",
       "      <td>1030.000000</td>\n",
       "      <td>1030.000000</td>\n",
       "      <td>1030.000000</td>\n",
       "      <td>1030.000000</td>\n",
       "      <td>1030.000000</td>\n",
       "      <td>1030.000000</td>\n",
       "      <td>1030.000000</td>\n",
       "      <td>1030.000000</td>\n",
       "      <td>1030.000000</td>\n",
       "    </tr>\n",
       "    <tr>\n",
       "      <th>mean</th>\n",
       "      <td>281.167864</td>\n",
       "      <td>73.895825</td>\n",
       "      <td>54.188350</td>\n",
       "      <td>181.567282</td>\n",
       "      <td>6.204660</td>\n",
       "      <td>972.918932</td>\n",
       "      <td>773.580485</td>\n",
       "      <td>45.662136</td>\n",
       "      <td>35.817961</td>\n",
       "    </tr>\n",
       "    <tr>\n",
       "      <th>std</th>\n",
       "      <td>104.506364</td>\n",
       "      <td>86.279342</td>\n",
       "      <td>63.997004</td>\n",
       "      <td>21.354219</td>\n",
       "      <td>5.973841</td>\n",
       "      <td>77.753954</td>\n",
       "      <td>80.175980</td>\n",
       "      <td>63.169912</td>\n",
       "      <td>16.705742</td>\n",
       "    </tr>\n",
       "    <tr>\n",
       "      <th>min</th>\n",
       "      <td>102.000000</td>\n",
       "      <td>0.000000</td>\n",
       "      <td>0.000000</td>\n",
       "      <td>121.800000</td>\n",
       "      <td>0.000000</td>\n",
       "      <td>801.000000</td>\n",
       "      <td>594.000000</td>\n",
       "      <td>1.000000</td>\n",
       "      <td>2.330000</td>\n",
       "    </tr>\n",
       "    <tr>\n",
       "      <th>25%</th>\n",
       "      <td>192.375000</td>\n",
       "      <td>0.000000</td>\n",
       "      <td>0.000000</td>\n",
       "      <td>164.900000</td>\n",
       "      <td>0.000000</td>\n",
       "      <td>932.000000</td>\n",
       "      <td>730.950000</td>\n",
       "      <td>7.000000</td>\n",
       "      <td>23.710000</td>\n",
       "    </tr>\n",
       "    <tr>\n",
       "      <th>50%</th>\n",
       "      <td>272.900000</td>\n",
       "      <td>22.000000</td>\n",
       "      <td>0.000000</td>\n",
       "      <td>185.000000</td>\n",
       "      <td>6.400000</td>\n",
       "      <td>968.000000</td>\n",
       "      <td>779.500000</td>\n",
       "      <td>28.000000</td>\n",
       "      <td>34.445000</td>\n",
       "    </tr>\n",
       "    <tr>\n",
       "      <th>75%</th>\n",
       "      <td>350.000000</td>\n",
       "      <td>142.950000</td>\n",
       "      <td>118.300000</td>\n",
       "      <td>192.000000</td>\n",
       "      <td>10.200000</td>\n",
       "      <td>1029.400000</td>\n",
       "      <td>824.000000</td>\n",
       "      <td>56.000000</td>\n",
       "      <td>46.135000</td>\n",
       "    </tr>\n",
       "    <tr>\n",
       "      <th>max</th>\n",
       "      <td>540.000000</td>\n",
       "      <td>359.400000</td>\n",
       "      <td>200.100000</td>\n",
       "      <td>247.000000</td>\n",
       "      <td>32.200000</td>\n",
       "      <td>1145.000000</td>\n",
       "      <td>992.600000</td>\n",
       "      <td>365.000000</td>\n",
       "      <td>82.600000</td>\n",
       "    </tr>\n",
       "  </tbody>\n",
       "</table>\n",
       "</div>"
      ],
      "text/plain": [
       "            cement         slag       flyash        water  superplasticizer  \\\n",
       "count  1030.000000  1030.000000  1030.000000  1030.000000       1030.000000   \n",
       "mean    281.167864    73.895825    54.188350   181.567282          6.204660   \n",
       "std     104.506364    86.279342    63.997004    21.354219          5.973841   \n",
       "min     102.000000     0.000000     0.000000   121.800000          0.000000   \n",
       "25%     192.375000     0.000000     0.000000   164.900000          0.000000   \n",
       "50%     272.900000    22.000000     0.000000   185.000000          6.400000   \n",
       "75%     350.000000   142.950000   118.300000   192.000000         10.200000   \n",
       "max     540.000000   359.400000   200.100000   247.000000         32.200000   \n",
       "\n",
       "       coarseaggregate  fineaggregate          age        csMPa  \n",
       "count      1030.000000    1030.000000  1030.000000  1030.000000  \n",
       "mean        972.918932     773.580485    45.662136    35.817961  \n",
       "std          77.753954      80.175980    63.169912    16.705742  \n",
       "min         801.000000     594.000000     1.000000     2.330000  \n",
       "25%         932.000000     730.950000     7.000000    23.710000  \n",
       "50%         968.000000     779.500000    28.000000    34.445000  \n",
       "75%        1029.400000     824.000000    56.000000    46.135000  \n",
       "max        1145.000000     992.600000   365.000000    82.600000  "
      ]
     },
     "execution_count": 113,
     "metadata": {},
     "output_type": "execute_result"
    }
   ],
   "source": [
    "concrete_data.describe()"
   ]
  },
  {
   "cell_type": "code",
   "execution_count": 114,
   "metadata": {},
   "outputs": [
    {
     "data": {
      "text/plain": [
       "cement              0\n",
       "slag                0\n",
       "flyash              0\n",
       "water               0\n",
       "superplasticizer    0\n",
       "coarseaggregate     0\n",
       "fineaggregate       0\n",
       "age                 0\n",
       "csMPa               0\n",
       "dtype: int64"
      ]
     },
     "execution_count": 114,
     "metadata": {},
     "output_type": "execute_result"
    }
   ],
   "source": [
    "concrete_data.isnull().sum()"
   ]
  },
  {
   "cell_type": "code",
   "execution_count": 115,
   "metadata": {},
   "outputs": [
    {
     "data": {
      "text/plain": [
       "cement              0\n",
       "slag                0\n",
       "flyash              0\n",
       "water               0\n",
       "superplasticizer    0\n",
       "coarseaggregate     0\n",
       "fineaggregate       0\n",
       "age                 0\n",
       "csMPa               0\n",
       "dtype: int64"
      ]
     },
     "execution_count": 115,
     "metadata": {},
     "output_type": "execute_result"
    }
   ],
   "source": [
    "np.isnan(concrete_data).sum()"
   ]
  },
  {
   "cell_type": "code",
   "execution_count": 116,
   "metadata": {},
   "outputs": [
    {
     "data": {
      "image/png": "[encoded data removed]",
      "text/plain": [
       "<Figure size 864x576 with 9 Axes>"
      ]
     },
     "metadata": {},
     "output_type": "display_data"
    }
   ],
   "source": [
    "concrete_data.hist()\n",
    "plt.show()"
   ]
  },
  {
   "cell_type": "code",
   "execution_count": 117,
   "metadata": {},
   "outputs": [
    {
     "name": "stdout",
     "output_type": "stream",
     "text": [
      "                    cement      slag    flyash     water  superplasticizer  \\\n",
      "cement            1.000000 -0.275216 -0.397467 -0.081587          0.092386   \n",
      "slag             -0.275216  1.000000 -0.323580  0.107252          0.043270   \n",
      "flyash           -0.397467 -0.323580  1.000000 -0.256984          0.377503   \n",
      "water            -0.081587  0.107252 -0.256984  1.000000         -0.657533   \n",
      "superplasticizer  0.092386  0.043270  0.377503 -0.657533          1.000000   \n",
      "coarseaggregate  -0.109349 -0.283999 -0.009961 -0.182294         -0.265999   \n",
      "fineaggregate    -0.222718 -0.281603  0.079108 -0.450661          0.222691   \n",
      "age               0.081946 -0.044246 -0.154371  0.277618         -0.192700   \n",
      "csMPa             0.497832  0.134829 -0.105755 -0.289633          0.366079   \n",
      "\n",
      "                  coarseaggregate  fineaggregate       age     csMPa  \n",
      "cement                  -0.109349      -0.222718  0.081946  0.497832  \n",
      "slag                    -0.283999      -0.281603 -0.044246  0.134829  \n",
      "flyash                  -0.009961       0.079108 -0.154371 -0.105755  \n",
      "water                   -0.182294      -0.450661  0.277618 -0.289633  \n",
      "superplasticizer        -0.265999       0.222691 -0.192700  0.366079  \n",
      "coarseaggregate          1.000000      -0.178481 -0.003016 -0.164935  \n",
      "fineaggregate           -0.178481       1.000000 -0.156095 -0.167241  \n",
      "age                     -0.003016      -0.156095  1.000000  0.328873  \n",
      "csMPa                   -0.164935      -0.167241  0.328873  1.000000  \n"
     ]
    }
   ],
   "source": [
    "cor = concrete_data.corr()\n",
    "print(cor)"
   ]
  },
  {
   "cell_type": "code",
   "execution_count": 118,
   "metadata": {},
   "outputs": [
    {
     "data": {
      "text/plain": [
       "<matplotlib.axes._subplots.AxesSubplot at 0x18bd6b88e80>"
      ]
     },
     "execution_count": 118,
     "metadata": {},
     "output_type": "execute_result"
    },
    {
     "data": {
      "image/png": "[encoded data removed]",
      "text/plain": [
       "<Figure size 864x576 with 2 Axes>"
      ]
     },
     "metadata": {},
     "output_type": "display_data"
    }
   ],
   "source": [
    "sns.heatmap(cor)"
   ]
  },
  {
   "cell_type": "code",
   "execution_count": 119,
   "metadata": {},
   "outputs": [],
   "source": [
    "X = concrete_data.iloc[:,0:8].values\n",
    "Y = concrete_data.iloc[:,8].values\n",
    "\n",
    "\n",
    "# Using Test/Train Split\n",
    "from sklearn.model_selection import train_test_split\n",
    "X_train, X_test, y_train, y_test = train_test_split(X, Y, test_size=0.3)"
   ]
  },
  {
   "cell_type": "code",
   "execution_count": 120,
   "metadata": {},
   "outputs": [],
   "source": [
    "from sklearn.preprocessing import StandardScaler\n",
    "sc = StandardScaler()\n",
    "X_train = sc.fit_transform(X_train)\n",
    "X_test = sc.transform(X_test)"
   ]
  },
  {
   "cell_type": "code",
   "execution_count": 121,
   "metadata": {},
   "outputs": [],
   "source": [
    "\n",
    "#import tensorflow as tf\n",
    "##tf.disable_v2_behavior()\n",
    "#from keras.models import Sequential\n",
    "#from keras.layers import Dense\n",
    "#from keras.wrappers.scikit_learn import KerasRegressor\n",
    "#from sklearn.model_selection import cross_val_score\n",
    "#from sklearn.model_selection import KFold\n",
    "#from sklearn.preprocessing import StandardScaler\n",
    "#from sklearn.pipeline import Pipeline"
   ]
  },
  {
   "cell_type": "code",
   "execution_count": 122,
   "metadata": {},
   "outputs": [],
   "source": [
    "\n",
    "#def baseline_model():\n",
    "#    # create model\n",
    "#    model = Sequential()\n",
    "#    model.add(Dense(8, input_dim=8, kernel_initializer='normal', activation='relu'))\n",
    "#    model.add(Dense(1, kernel_initializer='normal'))\n",
    "#    # Compile model\n",
    "#    model.compile(loss='mean_squared_error', optimizer='adam')\n",
    "#    return model\n",
    "## evaluate model\n",
    "#estimator = KerasRegressor(build_fn=baseline_model, epochs=100, batch_size=5, verbose=0)\n",
    "#kfold = KFold(n_splits=10)\n",
    "#results = cross_val_score(estimator, X_train,y_train, cv=kfold)\n",
    "#print(\"Baseline: %.2f (%.2f) MSE\" % (results.mean(), results.std()))"
   ]
  },
  {
   "cell_type": "code",
   "execution_count": 123,
   "metadata": {},
   "outputs": [],
   "source": [
    "#y_predict = model.predict(X_test)\n",
    "#\n",
    "#from sklearn.metrics import r2_score\n",
    "#print(r2_score(y_test,y_predict))\n",
    "#\n",
    "#backend.sqrt(backend.mean(backend.square(y_test - y_predict), axis=-1))"
   ]
  },
  {
   "cell_type": "code",
   "execution_count": 124,
   "metadata": {},
   "outputs": [
    {
     "name": "stdout",
     "output_type": "stream",
     "text": [
      "Train on 648 samples, validate on 73 samples\n",
      "Epoch 1/35\n",
      "648/648 [==============================] - 1s 930us/step - loss: 1556.2454 - mse: 1556.2454 - mae: 35.8434 - val_loss: 1404.8538 - val_mse: 1404.8538 - val_mae: 33.9922\n",
      "Epoch 2/35\n",
      "648/648 [==============================] - 0s 76us/step - loss: 1492.5684 - mse: 1492.5685 - mae: 35.6138 - val_loss: 1373.0407 - val_mse: 1373.0408 - val_mae: 33.7469\n",
      "Epoch 3/35\n",
      "648/648 [==============================] - 0s 76us/step - loss: 1430.3815 - mse: 1430.3816 - mae: 35.3044 - val_loss: 1350.2318 - val_mse: 1350.2318 - val_mae: 33.7497\n",
      "Epoch 4/35\n",
      "648/648 [==============================] - 0s 69us/step - loss: 1365.7823 - mse: 1365.7823 - mae: 34.8878 - val_loss: 1341.9963 - val_mse: 1341.9962 - val_mae: 33.9837\n",
      "Epoch 5/35\n",
      "648/648 [==============================] - 0s 77us/step - loss: 1298.6355 - mse: 1298.6355 - mae: 34.3585 - val_loss: 1317.4363 - val_mse: 1317.4362 - val_mae: 33.9601\n",
      "Epoch 6/35\n",
      "648/648 [==============================] - 0s 76us/step - loss: 1240.8026 - mse: 1240.8026 - mae: 33.7125 - val_loss: 1282.1085 - val_mse: 1282.1085 - val_mae: 33.7450\n",
      "Epoch 7/35\n",
      "648/648 [==============================] - 0s 68us/step - loss: 1167.6459 - mse: 1167.6460 - mae: 32.9658 - val_loss: 1243.8678 - val_mse: 1243.8678 - val_mae: 33.4617\n",
      "Epoch 8/35\n",
      "648/648 [==============================] - 0s 68us/step - loss: 1091.8435 - mse: 1091.8434 - mae: 32.0973 - val_loss: 1189.3446 - val_mse: 1189.3446 - val_mae: 32.9148\n",
      "Epoch 9/35\n",
      "648/648 [==============================] - 0s 74us/step - loss: 1022.9529 - mse: 1022.9529 - mae: 31.1314 - val_loss: 1101.7128 - val_mse: 1101.7128 - val_mae: 31.7384\n",
      "Epoch 10/35\n",
      "648/648 [==============================] - 0s 74us/step - loss: 953.6434 - mse: 953.6435 - mae: 30.0862 - val_loss: 978.6883 - val_mse: 978.6882 - val_mae: 29.9310\n",
      "Epoch 11/35\n",
      "648/648 [==============================] - 0s 79us/step - loss: 878.7619 - mse: 878.7620 - mae: 28.9407 - val_loss: 884.2899 - val_mse: 884.2898 - val_mae: 28.4242\n",
      "Epoch 12/35\n",
      "648/648 [==============================] - 0s 72us/step - loss: 813.2221 - mse: 813.2222 - mae: 27.6881 - val_loss: 746.6585 - val_mse: 746.6585 - val_mae: 26.0131\n",
      "Epoch 13/35\n",
      "648/648 [==============================] - 0s 66us/step - loss: 734.1565 - mse: 734.1564 - mae: 26.3430 - val_loss: 688.0338 - val_mse: 688.0338 - val_mae: 24.8516\n",
      "Epoch 14/35\n",
      "648/648 [==============================] - 0s 74us/step - loss: 660.5053 - mse: 660.5052 - mae: 24.9354 - val_loss: 536.0868 - val_mse: 536.0869 - val_mae: 21.8901\n",
      "Epoch 15/35\n",
      "648/648 [==============================] - 0s 97us/step - loss: 591.7065 - mse: 591.7066 - mae: 23.4405 - val_loss: 474.7919 - val_mse: 474.7920 - val_mae: 20.5394\n",
      "Epoch 16/35\n",
      "648/648 [==============================] - 0s 106us/step - loss: 512.5393 - mse: 512.5392 - mae: 21.8472 - val_loss: 398.0676 - val_mse: 398.0676 - val_mae: 18.7151\n",
      "Epoch 17/35\n",
      "648/648 [==============================] - 0s 72us/step - loss: 437.0242 - mse: 437.0242 - mae: 20.2071 - val_loss: 328.8073 - val_mse: 328.8073 - val_mae: 16.7919\n",
      "Epoch 18/35\n",
      "648/648 [==============================] - 0s 71us/step - loss: 378.7404 - mse: 378.7404 - mae: 18.5507 - val_loss: 274.0324 - val_mse: 274.0324 - val_mae: 15.2456\n",
      "Epoch 19/35\n",
      "648/648 [==============================] - 0s 74us/step - loss: 321.8864 - mse: 321.8864 - mae: 16.8902 - val_loss: 204.2363 - val_mse: 204.2363 - val_mae: 12.9190\n",
      "Epoch 20/35\n",
      "648/648 [==============================] - 0s 65us/step - loss: 258.4227 - mse: 258.4227 - mae: 15.2908 - val_loss: 168.6856 - val_mse: 168.6856 - val_mae: 11.7070\n",
      "Epoch 21/35\n",
      "648/648 [==============================] - 0s 76us/step - loss: 219.8299 - mse: 219.8299 - mae: 13.7529 - val_loss: 148.8244 - val_mse: 148.8244 - val_mae: 10.8590\n",
      "Epoch 22/35\n",
      "648/648 [==============================] - 0s 66us/step - loss: 178.0772 - mse: 178.0771 - mae: 12.2197 - val_loss: 118.1660 - val_mse: 118.1660 - val_mae: 9.5387\n",
      "Epoch 23/35\n",
      "648/648 [==============================] - 0s 76us/step - loss: 144.3484 - mse: 144.3484 - mae: 10.7042 - val_loss: 87.1903 - val_mse: 87.1903 - val_mae: 7.9555\n",
      "Epoch 24/35\n",
      "648/648 [==============================] - 0s 66us/step - loss: 111.1508 - mse: 111.1508 - mae: 9.4090 - val_loss: 78.4153 - val_mse: 78.4153 - val_mae: 7.4223\n",
      "Epoch 25/35\n",
      "648/648 [==============================] - 0s 71us/step - loss: 87.1584 - mse: 87.1584 - mae: 8.1913 - val_loss: 74.4597 - val_mse: 74.4597 - val_mae: 7.4278\n",
      "Epoch 26/35\n",
      "648/648 [==============================] - 0s 76us/step - loss: 74.4264 - mse: 74.4264 - mae: 7.2534 - val_loss: 57.6037 - val_mse: 57.6037 - val_mae: 6.2633\n",
      "Epoch 27/35\n",
      "648/648 [==============================] - 0s 71us/step - loss: 62.2976 - mse: 62.2976 - mae: 6.5537 - val_loss: 48.2864 - val_mse: 48.2864 - val_mae: 5.5357\n",
      "Epoch 28/35\n",
      "648/648 [==============================] - 0s 72us/step - loss: 50.5933 - mse: 50.5933 - mae: 5.7649 - val_loss: 43.3820 - val_mse: 43.3820 - val_mae: 5.0781\n",
      "Epoch 29/35\n",
      "648/648 [==============================] - 0s 72us/step - loss: 43.3846 - mse: 43.3846 - mae: 5.2957 - val_loss: 36.9428 - val_mse: 36.9428 - val_mae: 4.5491\n",
      "Epoch 30/35\n",
      "648/648 [==============================] - 0s 72us/step - loss: 40.4088 - mse: 40.4088 - mae: 4.9937 - val_loss: 34.0382 - val_mse: 34.0382 - val_mae: 4.3996\n",
      "Epoch 31/35\n",
      "648/648 [==============================] - 0s 71us/step - loss: 32.3401 - mse: 32.3401 - mae: 4.4498 - val_loss: 35.2668 - val_mse: 35.2668 - val_mae: 4.4368\n",
      "Epoch 32/35\n",
      "648/648 [==============================] - 0s 113us/step - loss: 29.0174 - mse: 29.0174 - mae: 4.2170 - val_loss: 30.5488 - val_mse: 30.5488 - val_mae: 4.1170\n",
      "Epoch 33/35\n",
      "648/648 [==============================] - 0s 79us/step - loss: 27.6046 - mse: 27.6046 - mae: 4.1753 - val_loss: 32.6254 - val_mse: 32.6254 - val_mae: 4.2801\n",
      "Epoch 34/35\n",
      "648/648 [==============================] - 0s 66us/step - loss: 32.6321 - mse: 32.6320 - mae: 4.5507 - val_loss: 31.8005 - val_mse: 31.8005 - val_mae: 4.2813\n",
      "Epoch 35/35\n",
      "648/648 [==============================] - 0s 72us/step - loss: 27.7135 - mse: 27.7135 - mae: 4.0922 - val_loss: 35.6590 - val_mse: 35.6590 - val_mae: 4.3398\n",
      "Model: \"sequential_9\"\n",
      "_________________________________________________________________\n",
      "Layer (type)                 Output Shape              Param #   \n",
      "=================================================================\n",
      "dense_24 (Dense)             (None, 64)                576       \n",
      "_________________________________________________________________\n",
      "dense_25 (Dense)             (None, 32)                2080      \n",
      "_________________________________________________________________\n",
      "batch_normalization_8 (Batch (None, 32)                128       \n",
      "_________________________________________________________________\n",
      "dense_26 (Dense)             (None, 1)                 33        \n",
      "=================================================================\n",
      "Total params: 2,817\n",
      "Trainable params: 2,753\n",
      "Non-trainable params: 64\n",
      "_________________________________________________________________\n",
      "None\n"
     ]
    }
   ],
   "source": [
    "\n",
    "import keras\n",
    "from keras.models import Sequential\n",
    "from keras.layers import Dense\n",
    "from keras.layers.normalization import BatchNormalization\n",
    "from keras import backend\n",
    "\n",
    "\n",
    "model=Sequential()\n",
    "\n",
    "model.add(Dense(64,input_dim=8,activation = 'relu'))\n",
    "\n",
    "# Bulding Second and third layer\n",
    "model.add(Dense(32,activation='relu'))\n",
    "model.add(keras.layers.normalization.BatchNormalization())\n",
    "\n",
    "# Output Layer\n",
    "model.add(Dense(1,activation='linear'))\n",
    "\n",
    "\n",
    "opt =keras.optimizers.Adam(lr=0.0015)\n",
    "\n",
    "model.compile(optimizer=opt,loss='mean_squared_error',metrics=['mse', 'mae'])\n",
    "history = model.fit(X_train, y_train, epochs = 35 , batch_size=32, validation_split=0.1)\n",
    "\n",
    "print(model.summary())"
   ]
  },
  {
   "cell_type": "code",
   "execution_count": 125,
   "metadata": {},
   "outputs": [
    {
     "name": "stdout",
     "output_type": "stream",
     "text": [
      "0.8849250936730071\n",
      "MAE: 3.8921535136398764\n",
      "MSE: 30.47199774530652\n",
      "RMSE: 5.520144721409623\n"
     ]
    }
   ],
   "source": [
    "y_predict = model.predict(X_test)\n",
    "\n",
    "from sklearn import metrics\n",
    "from sklearn.metrics import r2_score\n",
    "\n",
    "print(r2_score(y_test, y_predict, multioutput='variance_weighted'))\n",
    "\n",
    "print('MAE:', metrics.mean_absolute_error(y_test, y_predict))\n",
    "print('MSE:', metrics.mean_squared_error(y_test, y_predict))\n",
    "print('RMSE:', np.sqrt(metrics.mean_squared_error(y_test, y_predict)))\n"
   ]
  }
 ],
 "metadata": {
  "kernelspec": {
   "display_name": "Python 3",
   "language": "python",
   "name": "python3"
  },
  "language_info": {
   "codemirror_mode": {
    "name": "ipython",
    "version": 3
   },
   "file_extension": ".py",
   "mimetype": "text/x-python",
   "name": "python",
   "nbconvert_exporter": "python",
   "pygments_lexer": "ipython3",
   "version": "3.7.1"
  }
 },
 "nbformat": 4,
 "nbformat_minor": 2
}
