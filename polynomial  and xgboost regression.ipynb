{
 "cells": [
  {
   "cell_type": "code",
   "execution_count": 2,
   "metadata": {},
   "outputs": [],
   "source": [
    "import numpy as np\n",
    "import pandas as pd\n",
    "\n",
    "import matplotlib as mpl\n",
    "import matplotlib.pyplot as plt\n",
    "import matplotlib.pylab as pylab\n",
    "import seaborn as sns\n",
    "from pandas.plotting import scatter_matrix\n",
    "\n",
    "%matplotlib inline\n",
    "mpl.style.use('ggplot')\n",
    "sns.set_style('white')\n",
    "pylab.rcParams['figure.figsize'] = 12,8\n"
   ]
  },
  {
   "cell_type": "code",
   "execution_count": 3,
   "metadata": {},
   "outputs": [
    {
     "name": "stdout",
     "output_type": "stream",
     "text": [
      "      cement   slag  flyash  water  superplasticizer  coarseaggregate  \\\n",
      "0      540.0    0.0     0.0  162.0               2.5           1040.0   \n",
      "1      540.0    0.0     0.0  162.0               2.5           1055.0   \n",
      "2      332.5  142.5     0.0  228.0               0.0            932.0   \n",
      "3      332.5  142.5     0.0  228.0               0.0            932.0   \n",
      "4      198.6  132.4     0.0  192.0               0.0            978.4   \n",
      "...      ...    ...     ...    ...               ...              ...   \n",
      "1025   276.4  116.0    90.3  179.6               8.9            870.1   \n",
      "1026   322.2    0.0   115.6  196.0              10.4            817.9   \n",
      "1027   148.5  139.4   108.6  192.7               6.1            892.4   \n",
      "1028   159.1  186.7     0.0  175.6              11.3            989.6   \n",
      "1029   260.9  100.5    78.3  200.6               8.6            864.5   \n",
      "\n",
      "      fineaggregate  age  csMPa  \n",
      "0             676.0   28  79.99  \n",
      "1             676.0   28  61.89  \n",
      "2             594.0  270  40.27  \n",
      "3             594.0  365  41.05  \n",
      "4             825.5  360  44.30  \n",
      "...             ...  ...    ...  \n",
      "1025          768.3   28  44.28  \n",
      "1026          813.4   28  31.18  \n",
      "1027          780.0   28  23.70  \n",
      "1028          788.9   28  32.77  \n",
      "1029          761.5   28  32.40  \n",
      "\n",
      "[1030 rows x 9 columns]\n",
      "(1030, 9)\n"
     ]
    }
   ],
   "source": [
    "concrete_data= pd.read_csv('Concrete_Data_Yeh.csv')\n",
    "\n",
    "print(concrete_data)\n",
    "print(concrete_data.shape)"
   ]
  },
  {
   "cell_type": "code",
   "execution_count": 4,
   "metadata": {},
   "outputs": [
    {
     "name": "stdout",
     "output_type": "stream",
     "text": [
      "<class 'pandas.core.frame.DataFrame'>\n",
      "RangeIndex: 1030 entries, 0 to 1029\n",
      "Data columns (total 9 columns):\n",
      " #   Column            Non-Null Count  Dtype  \n",
      "---  ------            --------------  -----  \n",
      " 0   cement            1030 non-null   float64\n",
      " 1   slag              1030 non-null   float64\n",
      " 2   flyash            1030 non-null   float64\n",
      " 3   water             1030 non-null   float64\n",
      " 4   superplasticizer  1030 non-null   float64\n",
      " 5   coarseaggregate   1030 non-null   float64\n",
      " 6   fineaggregate     1030 non-null   float64\n",
      " 7   age               1030 non-null   int64  \n",
      " 8   csMPa             1030 non-null   float64\n",
      "dtypes: float64(8), int64(1)\n",
      "memory usage: 72.5 KB\n"
     ]
    }
   ],
   "source": [
    "concrete_data.info()"
   ]
  },
  {
   "cell_type": "code",
   "execution_count": 5,
   "metadata": {},
   "outputs": [
    {
     "data": {
      "text/html": [
       "<div>\n",
       "<style scoped>\n",
       "    .dataframe tbody tr th:only-of-type {\n",
       "        vertical-align: middle;\n",
       "    }\n",
       "\n",
       "    .dataframe tbody tr th {\n",
       "        vertical-align: top;\n",
       "    }\n",
       "\n",
       "    .dataframe thead th {\n",
       "        text-align: right;\n",
       "    }\n",
       "</style>\n",
       "<table border=\"1\" class=\"dataframe\">\n",
       "  <thead>\n",
       "    <tr style=\"text-align: right;\">\n",
       "      <th></th>\n",
       "      <th>cement</th>\n",
       "      <th>slag</th>\n",
       "      <th>flyash</th>\n",
       "      <th>water</th>\n",
       "      <th>superplasticizer</th>\n",
       "      <th>coarseaggregate</th>\n",
       "      <th>fineaggregate</th>\n",
       "      <th>age</th>\n",
       "      <th>csMPa</th>\n",
       "    </tr>\n",
       "  </thead>\n",
       "  <tbody>\n",
       "    <tr>\n",
       "      <th>count</th>\n",
       "      <td>1030.000000</td>\n",
       "      <td>1030.000000</td>\n",
       "      <td>1030.000000</td>\n",
       "      <td>1030.000000</td>\n",
       "      <td>1030.000000</td>\n",
       "      <td>1030.000000</td>\n",
       "      <td>1030.000000</td>\n",
       "      <td>1030.000000</td>\n",
       "      <td>1030.000000</td>\n",
       "    </tr>\n",
       "    <tr>\n",
       "      <th>mean</th>\n",
       "      <td>281.167864</td>\n",
       "      <td>73.895825</td>\n",
       "      <td>54.188350</td>\n",
       "      <td>181.567282</td>\n",
       "      <td>6.204660</td>\n",
       "      <td>972.918932</td>\n",
       "      <td>773.580485</td>\n",
       "      <td>45.662136</td>\n",
       "      <td>35.817961</td>\n",
       "    </tr>\n",
       "    <tr>\n",
       "      <th>std</th>\n",
       "      <td>104.506364</td>\n",
       "      <td>86.279342</td>\n",
       "      <td>63.997004</td>\n",
       "      <td>21.354219</td>\n",
       "      <td>5.973841</td>\n",
       "      <td>77.753954</td>\n",
       "      <td>80.175980</td>\n",
       "      <td>63.169912</td>\n",
       "      <td>16.705742</td>\n",
       "    </tr>\n",
       "    <tr>\n",
       "      <th>min</th>\n",
       "      <td>102.000000</td>\n",
       "      <td>0.000000</td>\n",
       "      <td>0.000000</td>\n",
       "      <td>121.800000</td>\n",
       "      <td>0.000000</td>\n",
       "      <td>801.000000</td>\n",
       "      <td>594.000000</td>\n",
       "      <td>1.000000</td>\n",
       "      <td>2.330000</td>\n",
       "    </tr>\n",
       "    <tr>\n",
       "      <th>25%</th>\n",
       "      <td>192.375000</td>\n",
       "      <td>0.000000</td>\n",
       "      <td>0.000000</td>\n",
       "      <td>164.900000</td>\n",
       "      <td>0.000000</td>\n",
       "      <td>932.000000</td>\n",
       "      <td>730.950000</td>\n",
       "      <td>7.000000</td>\n",
       "      <td>23.710000</td>\n",
       "    </tr>\n",
       "    <tr>\n",
       "      <th>50%</th>\n",
       "      <td>272.900000</td>\n",
       "      <td>22.000000</td>\n",
       "      <td>0.000000</td>\n",
       "      <td>185.000000</td>\n",
       "      <td>6.400000</td>\n",
       "      <td>968.000000</td>\n",
       "      <td>779.500000</td>\n",
       "      <td>28.000000</td>\n",
       "      <td>34.445000</td>\n",
       "    </tr>\n",
       "    <tr>\n",
       "      <th>75%</th>\n",
       "      <td>350.000000</td>\n",
       "      <td>142.950000</td>\n",
       "      <td>118.300000</td>\n",
       "      <td>192.000000</td>\n",
       "      <td>10.200000</td>\n",
       "      <td>1029.400000</td>\n",
       "      <td>824.000000</td>\n",
       "      <td>56.000000</td>\n",
       "      <td>46.135000</td>\n",
       "    </tr>\n",
       "    <tr>\n",
       "      <th>max</th>\n",
       "      <td>540.000000</td>\n",
       "      <td>359.400000</td>\n",
       "      <td>200.100000</td>\n",
       "      <td>247.000000</td>\n",
       "      <td>32.200000</td>\n",
       "      <td>1145.000000</td>\n",
       "      <td>992.600000</td>\n",
       "      <td>365.000000</td>\n",
       "      <td>82.600000</td>\n",
       "    </tr>\n",
       "  </tbody>\n",
       "</table>\n",
       "</div>"
      ],
      "text/plain": [
       "            cement         slag       flyash        water  superplasticizer  \\\n",
       "count  1030.000000  1030.000000  1030.000000  1030.000000       1030.000000   \n",
       "mean    281.167864    73.895825    54.188350   181.567282          6.204660   \n",
       "std     104.506364    86.279342    63.997004    21.354219          5.973841   \n",
       "min     102.000000     0.000000     0.000000   121.800000          0.000000   \n",
       "25%     192.375000     0.000000     0.000000   164.900000          0.000000   \n",
       "50%     272.900000    22.000000     0.000000   185.000000          6.400000   \n",
       "75%     350.000000   142.950000   118.300000   192.000000         10.200000   \n",
       "max     540.000000   359.400000   200.100000   247.000000         32.200000   \n",
       "\n",
       "       coarseaggregate  fineaggregate          age        csMPa  \n",
       "count      1030.000000    1030.000000  1030.000000  1030.000000  \n",
       "mean        972.918932     773.580485    45.662136    35.817961  \n",
       "std          77.753954      80.175980    63.169912    16.705742  \n",
       "min         801.000000     594.000000     1.000000     2.330000  \n",
       "25%         932.000000     730.950000     7.000000    23.710000  \n",
       "50%         968.000000     779.500000    28.000000    34.445000  \n",
       "75%        1029.400000     824.000000    56.000000    46.135000  \n",
       "max        1145.000000     992.600000   365.000000    82.600000  "
      ]
     },
     "execution_count": 5,
     "metadata": {},
     "output_type": "execute_result"
    }
   ],
   "source": [
    "concrete_data.describe()"
   ]
  },
  {
   "cell_type": "code",
   "execution_count": 6,
   "metadata": {},
   "outputs": [
    {
     "data": {
      "text/plain": [
       "cement              0\n",
       "slag                0\n",
       "flyash              0\n",
       "water               0\n",
       "superplasticizer    0\n",
       "coarseaggregate     0\n",
       "fineaggregate       0\n",
       "age                 0\n",
       "csMPa               0\n",
       "dtype: int64"
      ]
     },
     "execution_count": 6,
     "metadata": {},
     "output_type": "execute_result"
    }
   ],
   "source": [
    "concrete_data.isnull().sum()"
   ]
  },
  {
   "cell_type": "code",
   "execution_count": 7,
   "metadata": {},
   "outputs": [
    {
     "data": {
      "text/plain": [
       "cement              0\n",
       "slag                0\n",
       "flyash              0\n",
       "water               0\n",
       "superplasticizer    0\n",
       "coarseaggregate     0\n",
       "fineaggregate       0\n",
       "age                 0\n",
       "csMPa               0\n",
       "dtype: int64"
      ]
     },
     "execution_count": 7,
     "metadata": {},
     "output_type": "execute_result"
    }
   ],
   "source": [
    "np.isnan(concrete_data).sum()"
   ]
  },
  {
   "cell_type": "code",
   "execution_count": 8,
   "metadata": {},
   "outputs": [
    {
     "data": {
      "image/png": "[encoded data removed]",
      "text/plain": [
       "<Figure size 432x288 with 9 Axes>"
      ]
     },
     "metadata": {
      "needs_background": "light"
     },
     "output_type": "display_data"
    }
   ],
   "source": [
    "concrete_data.hist()\n",
    "plt.show()"
   ]
  },
  {
   "cell_type": "code",
   "execution_count": 9,
   "metadata": {},
   "outputs": [
    {
     "data": {
      "text/plain": [
       "<matplotlib.axes._subplots.AxesSubplot at 0x1fe412c05f8>"
      ]
     },
     "execution_count": 9,
     "metadata": {},
     "output_type": "execute_result"
    },
    {
     "data": {
      "image/png": "[encoded data removed]",
      "text/plain": [
       "<Figure size 432x288 with 1 Axes>"
      ]
     },
     "metadata": {
      "needs_background": "light"
     },
     "output_type": "display_data"
    }
   ],
   "source": [
    "concrete_data.boxplot()"
   ]
  },
  {
   "cell_type": "code",
   "execution_count": 10,
   "metadata": {},
   "outputs": [],
   "source": [
    "#from scipy import stats\n",
    "#import numpy as np\n",
    "#z = np.abs(stats.zscore(concrete_data.iloc[:,:9]))\n",
    "#print(z)\n",
    "#\n",
    "#threshold =4\n",
    "#\n",
    "##print(np.where(z > 3))\n",
    "##z[5][5]\n",
    "#concrete_data_outlier_removed = concrete_data.iloc[:,:9][(z < threshold).all(axis=1)]\n",
    "#\n",
    "#\n",
    "#concrete_data.shape\n",
    "#\n",
    "### ## dataset after outliers removed \n",
    "#concrete_data_outlier_removed.boxplot()\n",
    "#concrete_data_outlier_removed.shape"
   ]
  },
  {
   "cell_type": "code",
   "execution_count": 11,
   "metadata": {},
   "outputs": [
    {
     "name": "stdout",
     "output_type": "stream",
     "text": [
      "                    cement      slag    flyash     water  superplasticizer  \\\n",
      "cement            1.000000 -0.275216 -0.397467 -0.081587          0.092386   \n",
      "slag             -0.275216  1.000000 -0.323580  0.107252          0.043270   \n",
      "flyash           -0.397467 -0.323580  1.000000 -0.256984          0.377503   \n",
      "water            -0.081587  0.107252 -0.256984  1.000000         -0.657533   \n",
      "superplasticizer  0.092386  0.043270  0.377503 -0.657533          1.000000   \n",
      "coarseaggregate  -0.109349 -0.283999 -0.009961 -0.182294         -0.265999   \n",
      "fineaggregate    -0.222718 -0.281603  0.079108 -0.450661          0.222691   \n",
      "age               0.081946 -0.044246 -0.154371  0.277618         -0.192700   \n",
      "csMPa             0.497832  0.134829 -0.105755 -0.289633          0.366079   \n",
      "\n",
      "                  coarseaggregate  fineaggregate       age     csMPa  \n",
      "cement                  -0.109349      -0.222718  0.081946  0.497832  \n",
      "slag                    -0.283999      -0.281603 -0.044246  0.134829  \n",
      "flyash                  -0.009961       0.079108 -0.154371 -0.105755  \n",
      "water                   -0.182294      -0.450661  0.277618 -0.289633  \n",
      "superplasticizer        -0.265999       0.222691 -0.192700  0.366079  \n",
      "coarseaggregate          1.000000      -0.178481 -0.003016 -0.164935  \n",
      "fineaggregate           -0.178481       1.000000 -0.156095 -0.167241  \n",
      "age                     -0.003016      -0.156095  1.000000  0.328873  \n",
      "csMPa                   -0.164935      -0.167241  0.328873  1.000000  \n"
     ]
    }
   ],
   "source": [
    "cor = concrete_data.corr()\n",
    "print(cor)"
   ]
  },
  {
   "cell_type": "code",
   "execution_count": 12,
   "metadata": {},
   "outputs": [
    {
     "data": {
      "text/plain": [
       "<matplotlib.axes._subplots.AxesSubplot at 0x1fe4122b470>"
      ]
     },
     "execution_count": 12,
     "metadata": {},
     "output_type": "execute_result"
    },
    {
     "data": {
      "image/png": "[encoded data removed]",
      "text/plain": [
       "<Figure size 432x288 with 2 Axes>"
      ]
     },
     "metadata": {
      "needs_background": "light"
     },
     "output_type": "display_data"
    }
   ],
   "source": [
    "sns.heatmap(cor)"
   ]
  },
  {
   "cell_type": "code",
   "execution_count": 13,
   "metadata": {},
   "outputs": [],
   "source": [
    "X = concrete_data.iloc[:,0:8].values\n",
    "Y = concrete_data.iloc[:,8].values\n",
    "\n",
    "\n",
    "# Using Test/Train Split\n",
    "from sklearn.model_selection import train_test_split\n",
    "X_train, X_test, y_train, y_test = train_test_split(X, Y, test_size=0.3)"
   ]
  },
  {
   "cell_type": "code",
   "execution_count": 14,
   "metadata": {},
   "outputs": [],
   "source": [
    "from sklearn.preprocessing import PolynomialFeatures \n",
    "poly_reg_feat = PolynomialFeatures(degree=2)\n",
    "\n",
    "train_feature_poly = poly_reg_feat.fit_transform(X_train)\n",
    "test_feature_poly = poly_reg_feat.fit_transform(X_test)"
   ]
  },
  {
   "cell_type": "code",
   "execution_count": 15,
   "metadata": {},
   "outputs": [],
   "source": [
    "from sklearn.preprocessing import StandardScaler\n",
    "sc = StandardScaler()\n",
    "train_feature_poly = sc.fit_transform(train_feature_poly)\n",
    "test_feature_poly = sc.transform(test_feature_poly)"
   ]
  },
  {
   "cell_type": "code",
   "execution_count": 16,
   "metadata": {},
   "outputs": [
    {
     "name": "stdout",
     "output_type": "stream",
     "text": [
      "      Real  Predictions\n",
      "0    29.73    24.510739\n",
      "1    45.30    48.488069\n",
      "2     9.31    10.630514\n",
      "3    15.57    15.947801\n",
      "4    55.26    40.536665\n",
      "..     ...          ...\n",
      "304  38.41    62.385442\n",
      "305  33.70    26.682717\n",
      "306  24.28    18.001110\n",
      "307  20.08    18.585138\n",
      "308  33.49    36.874560\n",
      "\n",
      "[309 rows x 2 columns]\n"
     ]
    }
   ],
   "source": [
    "from sklearn.linear_model import LinearRegression\n",
    "\n",
    "lin_reg = LinearRegression()\n",
    "lin_reg.fit(train_feature_poly, y_train)\n",
    "\n",
    "predictions = lin_reg.predict(test_feature_poly)\n",
    "\n",
    "comparison = pd.DataFrame({'Real':y_test, 'Predictions': predictions})\n",
    "print(comparison)\n",
    "\n",
    "\n",
    "\n",
    "\n"
   ]
  },
  {
   "cell_type": "code",
   "execution_count": 17,
   "metadata": {},
   "outputs": [
    {
     "name": "stdout",
     "output_type": "stream",
     "text": [
      "0.7810369101449698\n",
      "MAE: 6.0156927327972545\n",
      "MSE: 61.617304375505014\n",
      "RMSE: 7.849669061527691\n"
     ]
    }
   ],
   "source": [
    "from sklearn import metrics\n",
    "from sklearn.metrics import r2_score\n",
    "\n",
    "print(r2_score(y_test, predictions, multioutput='variance_weighted'))\n",
    "\n",
    "print('MAE:', metrics.mean_absolute_error(y_test, predictions))\n",
    "print('MSE:', metrics.mean_squared_error(y_test, predictions))\n",
    "print('RMSE:', np.sqrt(metrics.mean_squared_error(y_test, predictions)))\n"
   ]
  },
  {
   "cell_type": "code",
   "execution_count": 18,
   "metadata": {},
   "outputs": [
    {
     "name": "stdout",
     "output_type": "stream",
     "text": [
      "      Real  Predictions\n",
      "0    29.73    24.510739\n",
      "1    45.30    48.488069\n",
      "2     9.31    10.630514\n",
      "3    15.57    15.947801\n",
      "4    55.26    40.536665\n",
      "..     ...          ...\n",
      "304  38.41    62.385442\n",
      "305  33.70    26.682717\n",
      "306  24.28    18.001110\n",
      "307  20.08    18.585138\n",
      "308  33.49    36.874560\n",
      "\n",
      "[309 rows x 2 columns]\n"
     ]
    }
   ],
   "source": [
    "from sklearn.ensemble import RandomForestRegressor\n",
    "\n",
    "rf_reg = RandomForestRegressor(n_estimators=200, random_state=0)\n",
    "rf_reg.fit(train_feature_poly, y_train)\n",
    "\n",
    "rf_predictions = lin_reg.predict(test_feature_poly)\n",
    "\n",
    "rf_comparison = pd.DataFrame({'Real':y_test, 'Predictions': rf_predictions})\n",
    "print(rf_comparison)\n"
   ]
  },
  {
   "cell_type": "code",
   "execution_count": 19,
   "metadata": {},
   "outputs": [
    {
     "name": "stdout",
     "output_type": "stream",
     "text": [
      "0.7810369101449698\n",
      "MAE: 6.0156927327972545\n",
      "MSE: 61.617304375505014\n",
      "RMSE: 7.849669061527691\n"
     ]
    }
   ],
   "source": [
    "print(r2_score(y_test, rf_predictions, multioutput='variance_weighted'))\n",
    "\n",
    "print('MAE:', metrics.mean_absolute_error(y_test, rf_predictions))\n",
    "print('MSE:', metrics.mean_squared_error(y_test, rf_predictions))\n",
    "print('RMSE:', np.sqrt(metrics.mean_squared_error(y_test, rf_predictions)))\n"
   ]
  },
  {
   "cell_type": "code",
   "execution_count": 20,
   "metadata": {},
   "outputs": [
    {
     "name": "stdout",
     "output_type": "stream",
     "text": [
      "[21:09:18] WARNING: src/objective/regression_obj.cu:152: reg:linear is now deprecated in favor of reg:squarederror.\n",
      "MAE: 3.4016135902775146\n",
      "MSE: 20.879776951856655\n",
      "RMSE: 4.569439457073116\n"
     ]
    }
   ],
   "source": [
    "from xgboost import XGBRegressor\n",
    "XGBModel = XGBRegressor()\n",
    "\n",
    "XGBModel.fit(train_feature_poly, y_train , verbose=False)\n",
    "\n",
    "XGBpredictions = XGBModel.predict(test_feature_poly)\n",
    "\n",
    "print('MAE:', metrics.mean_absolute_error(y_test, XGBpredictions))\n",
    "print('MSE:', metrics.mean_squared_error(y_test, XGBpredictions))\n",
    "print('RMSE:', np.sqrt(metrics.mean_squared_error(y_test, XGBpredictions)))\n"
   ]
  },
  {
   "cell_type": "code",
   "execution_count": null,
   "metadata": {},
   "outputs": [],
   "source": []
  }
 ],
 "metadata": {
  "kernelspec": {
   "display_name": "Python 3",
   "language": "python",
   "name": "python3"
  },
  "language_info": {
   "codemirror_mode": {
    "name": "ipython",
    "version": 3
   },
   "file_extension": ".py",
   "mimetype": "text/x-python",
   "name": "python",
   "nbconvert_exporter": "python",
   "pygments_lexer": "ipython3",
   "version": "3.7.1"
  }
 },
 "nbformat": 4,
 "nbformat_minor": 2
}
